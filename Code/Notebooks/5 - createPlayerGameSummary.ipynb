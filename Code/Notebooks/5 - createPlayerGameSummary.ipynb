{
  "nbformat": 4,
  "nbformat_minor": 2,
  "metadata": {
    "kernelspec": {
      "name": "synapse_pyspark",
      "display_name": "python"
    },
    "language_info": {
      "name": "python"
    },
    "save_output": true,
    "synapse_widget": {
      "version": "0.1",
      "state": {}
    }
  },
  "cells": [
    {
      "cell_type": "code",
      "execution_count": 32,
      "outputs": [],
      "metadata": {
        "microsoft": {
          "language": "python"
        }
      },
      "source": [
        "%%pyspark\n",
        "df = spark.sql(\"SELECT * FROM pokerdata.gamedetails\")\n",
        "# df.show(10)"
      ]
    },
    {
      "cell_type": "code",
      "execution_count": 33,
      "outputs": [],
      "metadata": {
        "microsoft": {
          "language": "python"
        }
      },
      "source": [
        "%%pyspark\n",
        "df.createOrReplaceTempView(\"vwgamedetails\")"
      ]
    },
    {
      "cell_type": "code",
      "execution_count": 38,
      "outputs": [],
      "metadata": {},
      "source": [
        "spark.sql(\"DROP TABLE IF EXISTS pokerdata.playerGameSummary\")\n",
        "spark.sql(\"CREATE TABLE pokerdata.playerGameSummary  (gameId STRING, player string , gameDate string, vpipCt int, pfrCt int, gameCt int, profit float) USING PARQUET\")"
      ]
    },
    {
      "cell_type": "code",
      "execution_count": 39,
      "outputs": [],
      "metadata": {
        "microsoft": {
          "language": "sparksql"
        },
        "collapsed": false,
        "diagram": {
          "activateDiagramType": 1,
          "chartConfig": {
            "category": "bar",
            "keys": [],
            "values": [],
            "yLabel": "",
            "xLabel": "",
            "aggregation": "SUM",
            "aggByBackend": false
          },
          "aggData": "{}",
          "isSummary": false,
          "previewData": {
            "filter": null
          },
          "isSql": true
        }
      },
      "source": [
        "%%sql\n",
        "INSERT INTO pokerdata.playerGameSummary\n",
        "SELECT  t1.gameId\n",
        "        ,t1.player\n",
        "       , t1.gameDate\n",
        "        --, t1.gameTime\n",
        "        , sum(vpipCt) vpipCt\n",
        "        , sum(pfrCt) pfrCt\n",
        "        , sum(gameCt) gameCt\n",
        "        , sum(profit) profit\n",
        "FROM (\n",
        "    SELECT player\n",
        "        , gameId\n",
        "        --, CAST(REPLACE(gameTime,' ET','') as time) as gameTime\n",
        "        , to_date(REPLACE(gameTime,' ET',''),'yyyy/MM/dd') as gameDate\n",
        "            , MAX(\n",
        "                    CASE WHEN action = 'bet' THEN 1\n",
        "                        WHEN action = 'raise' THEN 1\n",
        "                        WHEN action = 'call' THEN 1\n",
        "                        ELSE 0 END\n",
        "                )  AS vpipCt\n",
        "            , MAX(\n",
        "                    CASE WHEN action = 'raise' THEN 1 ELSE 0 END \n",
        "                ) AS pfrCt\n",
        "            , 1 AS gameCt\n",
        "    FROM  vwgameDetails\n",
        "    WHERE streetName = 'Pre-flop'\n",
        "            --AND player <> 'Player00008'    \n",
        "    GROUP BY player\n",
        "                , gameId\n",
        "                , gameTime\n",
        ") t1 JOIN (\n",
        "    SELECT player, gameId, gameTime, sum(amount) profit\n",
        "    FROM vwgameDetails\n",
        "    GROUP BY player, gameId, gameTime\n",
        ") t2 ON t1.player = t2.player AND t1.gameId = t2.gameId\n",
        "GROUP BY t1.player, t1.gameId, t1.gameDate--, t1.gameTime"
      ]
    },
    {
      "cell_type": "code",
      "execution_count": 22,
      "outputs": [],
      "metadata": {
        "microsoft": {
          "language": "sparksql"
        },
        "diagram": {
          "activateDiagramType": 1,
          "chartConfig": {
            "category": "bar",
            "keys": [
              "player"
            ],
            "values": [
              "sum(profit)"
            ],
            "yLabel": "sum(profit)",
            "xLabel": "player",
            "aggregation": "SUM",
            "aggByBackend": false
          },
          "aggData": "{\"sum(profit)\":{\"Player00016\":535.5999642424285,\"Player00135\":799.8099286034703,\"Player00276\":683.5099721625447,\"Player00307\":1326.4899480380118,\"Player00333\":1113.2299770750105,\"Player00364\":724.0399647131562,\"Player00457\":823.0199745632708,\"Player00507\":1017.6998985782266,\"Player01166\":590.8499667346478,\"Player01581\":597.9599413089454}}",
          "isSummary": false,
          "previewData": {
            "filter": null
          },
          "isSql": true
        }
      },
      "source": [
        "%%sql\n",
        "select player, sum(profit), sum(vpipCt), sum(pfrCt), sum(gameCt)\n",
        "from pokerdata.playerGameSummary\n",
        "group by player\n",
        "order by 2 desc\n",
        "LIMIT 10"
      ]
    }
  ]
}