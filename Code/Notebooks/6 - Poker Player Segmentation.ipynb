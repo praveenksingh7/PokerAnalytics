{
  "nbformat": 4,
  "nbformat_minor": 2,
  "metadata": {
    "kernelspec": {
      "name": "synapse_pyspark",
      "display_name": "python"
    },
    "language_info": {
      "name": "python"
    },
    "save_output": true,
    "synapse_widget": {
      "version": "0.1",
      "state": {}
    }
  },
  "cells": [
    {
      "cell_type": "markdown",
      "metadata": {
        "nteract": {
          "transient": {
            "deleting": false
          }
        }
      },
      "source": [
        "# Classification of Players\r\n",
        "\r\n",
        "This notebook process the game history data to calculate key metrics on players based on their betting history.  This information will be used to group the players using k-means.\r\n",
        ""
      ]
    },
    {
      "cell_type": "code",
      "execution_count": 2,
      "outputs": [
        {
          "output_type": "display_data",
          "data": {
            "application/vnd.livy.statement-meta+json": {
              "spark_pool": "sparkpool",
              "session_id": 3,
              "statement_id": 3,
              "state": "finished",
              "livy_statement_state": "available",
              "queued_time": "2021-02-17T17:49:54.6787069Z",
              "execution_start_time": "2021-02-17T17:50:47.9890492Z",
              "execution_finish_time": "2021-02-17T17:50:50.0208346Z"
            },
            "text/plain": "StatementMeta(sparkpool, 3, 3, Finished, Available)"
          },
          "metadata": {}
        },
        {
          "output_type": "execute_result",
          "data": {
            "text/plain": ""
          },
          "execution_count": 2,
          "metadata": {}
        }
      ],
      "metadata": {
        "collapsed": true
      },
      "source": [
        "import pandas as pd\n",
        "import numpy as np"
      ]
    },
    {
      "cell_type": "markdown",
      "metadata": {
        "nteract": {
          "transient": {
            "deleting": false
          }
        }
      },
      "source": [
        "## Create a dataframe\r\n",
        "\r\n",
        "We need get the data in a pandas dataframe for some manipulation and for building an ML classicification process.  We care about the total player activity across all their games.   In order to make this as efficent as possible we're going to use the playergamesummary table.  This table gives us the attributes we care about by player, game, and date, we need to aggregate these values by player."
      ]
    },
    {
      "cell_type": "code",
      "execution_count": 3,
      "outputs": [
        {
          "output_type": "display_data",
          "data": {
            "application/vnd.livy.statement-meta+json": {
              "spark_pool": "sparkpool",
              "session_id": 3,
              "statement_id": 4,
              "state": "finished",
              "livy_statement_state": "available",
              "queued_time": "2021-02-17T17:51:00.5590266Z",
              "execution_start_time": "2021-02-17T17:51:00.6362732Z",
              "execution_finish_time": "2021-02-17T17:51:21.0760054Z"
            },
            "text/plain": "StatementMeta(sparkpool, 3, 4, Finished, Available)"
          },
          "metadata": {}
        },
        {
          "output_type": "execute_result",
          "data": {
            "text/plain": ""
          },
          "execution_count": 3,
          "metadata": {}
        }
      ],
      "metadata": {
        "jupyter": {
          "source_hidden": false,
          "outputs_hidden": false
        },
        "nteract": {
          "transient": {
            "deleting": false
          }
        },
        "collapsed": true
      },
      "source": [
        "#Remove player Player00008. This player shows up in all the games, but doesn't ever bet or raise so we need to exclude it.\n",
        "df = spark.sql(\"SELECT  player, SUM(vpipCt) as VPIP_Ct, SUM(pfrCt) as PFR_Ct, SUM(gameCt) as Game_Ct, SUM(profit) as Winnings, (SUM(profit)/SUM(gameCt))*100 as WinningsPer100 FROM pokerdata.playergamesummary where player <> 'Player00008' GROUP BY player\").toPandas()"
      ]
    },
    {
      "cell_type": "markdown",
      "metadata": {
        "nteract": {
          "transient": {
            "deleting": false
          }
        }
      },
      "source": [
        "# Feature engineering\r\n",
        "\r\n",
        "Off of the counts exposed in the views, we need to convert these values to ratios for the model.  We also need to deal with some nulls in the data.\r\n",
        "\r\n",
        "The values we calculate are:\r\n",
        "\r\n",
        "1. PFR - Pre Flop Raise - how often does a player raise before the flop.\r\n",
        "1. VP$IP - Voluntarily put money in the pot - how often does a player play a hand.  In this case lower indicates a shrewd player, not playing all hands but strategically waiting playable hands.\r\n",
        "1. pfr_rate - Rate of PFR to VPIP - when a player is playing the hand, how aggressively are they playing the hand."
      ]
    },
    {
      "cell_type": "code",
      "execution_count": 4,
      "outputs": [
        {
          "output_type": "display_data",
          "data": {
            "application/vnd.livy.statement-meta+json": {
              "spark_pool": "sparkpool",
              "session_id": 3,
              "statement_id": 5,
              "state": "finished",
              "livy_statement_state": "available",
              "queued_time": "2021-02-17T17:52:01.5545239Z",
              "execution_start_time": "2021-02-17T17:52:01.6352952Z",
              "execution_finish_time": "2021-02-17T17:52:03.6731929Z"
            },
            "text/plain": "StatementMeta(sparkpool, 3, 5, Finished, Available)"
          },
          "metadata": {}
        },
        {
          "output_type": "execute_result",
          "data": {
            "text/plain": ""
          },
          "execution_count": 4,
          "metadata": {}
        }
      ],
      "metadata": {
        "jupyter": {
          "source_hidden": false,
          "outputs_hidden": false
        },
        "nteract": {
          "transient": {
            "deleting": false
          }
        },
        "collapsed": true
      },
      "source": [
        "# Manufacture new columns in the dataset\r\n",
        "\r\n",
        "#PFR -> How often does the player raise before the flop\r\n",
        "df['PFR'] = df['PFR_Ct']/df['Game_Ct']\r\n",
        "#VP$P -> How often does the player voluntarily put money in the pot (ie. bet, call, raise, but not blind)\r\n",
        "df['VP$IP'] = df['VPIP_Ct']/df['Game_Ct']\r\n",
        "#pfr_rate -> When a player is betting on a game how often is it a pre flop raise.  This is a measure of aggression.\r\n",
        "df['pfr_rate'] = df['PFR'] / df['VP$IP']\r\n",
        "df['playertype'] = ''\r\n",
        "df['labels'] = -1\r\n",
        "# Fill in blanks\r\n",
        "df['pfr_rate'] = df['pfr_rate'].fillna(0)"
      ]
    },
    {
      "cell_type": "markdown",
      "metadata": {
        "nteract": {
          "transient": {
            "deleting": false
          }
        }
      },
      "source": [
        "## Split the dataset\r\n",
        "\r\n",
        "In order for the statistics to hold true we need a certain volume of games to accurately assess a player.  By excluding outliers we can get a more pure representation of the clusers of player tyeps.\r\n",
        "\r\n",
        "For this scenario we need players that actually have beeting history and have played at least 500 games."
      ]
    },
    {
      "cell_type": "code",
      "execution_count": 5,
      "outputs": [
        {
          "output_type": "display_data",
          "data": {
            "application/vnd.livy.statement-meta+json": {
              "spark_pool": "sparkpool",
              "session_id": 3,
              "statement_id": 6,
              "state": "finished",
              "livy_statement_state": "available",
              "queued_time": "2021-02-17T17:52:06.5892485Z",
              "execution_start_time": "2021-02-17T17:52:06.6686131Z",
              "execution_finish_time": "2021-02-17T17:52:08.7145796Z"
            },
            "text/plain": "StatementMeta(sparkpool, 3, 6, Finished, Available)"
          },
          "metadata": {}
        },
        {
          "output_type": "execute_result",
          "data": {
            "text/plain": "/mnt/var/hadoop/tmp/nm-local-dir/usercache/trusted-service-user/appcache/application_1613582614008_0004/container_1613582614008_0004_01_000001/tmp/6144509923836744749:3: SettingWithCopyWarning: \nA value is trying to be set on a copy of a slice from a DataFrame.\nTry using .loc[row_indexer,col_indexer] = value instead\n\nSee the caveats in the documentation: http://pandas.pydata.org/pandas-docs/stable/user_guide/indexing.html#returning-a-view-versus-a-copy\n  # contributor license agreements.  See the NOTICE file distributed with\n/mnt/var/hadoop/tmp/nm-local-dir/usercache/trusted-service-user/appcache/application_1613582614008_0004/container_1613582614008_0004_01_000001/tmp/6144509923836744749:5: SettingWithCopyWarning: \nA value is trying to be set on a copy of a slice from a DataFrame.\nTry using .loc[row_indexer,col_indexer] = value instead\n\nSee the caveats in the documentation: http://pandas.pydata.org/pandas-docs/stable/user_guide/indexing.html#returning-a-view-versus-a-copy\n  # The ASF licenses this file to You under the Apache License, Version 2.0"
          },
          "execution_count": 5,
          "metadata": {}
        }
      ],
      "metadata": {
        "jupyter": {
          "source_hidden": false,
          "outputs_hidden": false
        },
        "nteract": {
          "transient": {
            "deleting": false
          }
        },
        "collapsed": true
      },
      "source": [
        "#split out the veteran players from the noobs\r\n",
        "df_vets = df[(df['Game_Ct'] >= 500) & (df['PFR_Ct'] > 0) & (df['VPIP_Ct'] > 0)]\r\n",
        "df_vets['playertype'] = 'vet'\r\n",
        "df_noobs = df[(df['Game_Ct'] < 500) | (df['PFR_Ct'] == 0) | (df['VPIP_Ct'] == 0)]\r\n",
        "df_noobs['playertype'] = 'noob'"
      ]
    },
    {
      "cell_type": "code",
      "execution_count": 6,
      "outputs": [
        {
          "output_type": "display_data",
          "data": {
            "application/vnd.livy.statement-meta+json": {
              "spark_pool": "sparkpool",
              "session_id": 3,
              "statement_id": 7,
              "state": "finished",
              "livy_statement_state": "available",
              "queued_time": "2021-02-17T17:52:13.1212956Z",
              "execution_start_time": "2021-02-17T17:52:13.2028109Z",
              "execution_finish_time": "2021-02-17T17:52:15.2348088Z"
            },
            "text/plain": "StatementMeta(sparkpool, 3, 7, Finished, Available)"
          },
          "metadata": {}
        },
        {
          "output_type": "execute_result",
          "data": {
            "text/plain": "         player  VPIP_Ct  PFR_Ct  ...  pfr_rate  playertype  labels\n0  Player000461     4544    1659  ...  0.365097         vet      -1\n1  Player001163      282     104  ...  0.368794         vet      -1\n2  Player001694      752      55  ...  0.073138         vet      -1\n5  Player002506      289     132  ...  0.456747         vet      -1\n7  Player003311      279      76  ...  0.272401         vet      -1\n\n[5 rows x 11 columns]\n          player  VPIP_Ct  PFR_Ct  ...  pfr_rate  playertype  labels\n3   Player001787       97      42  ...  0.432990        noob      -1\n4   Player002464      107      50  ...  0.467290        noob      -1\n6   Player003232      116      31  ...  0.267241        noob      -1\n14  Player006707       63       9  ...  0.142857        noob      -1\n15  Player006774       61      16  ...  0.262295        noob      -1\n\n[5 rows x 11 columns]"
          },
          "execution_count": 6,
          "metadata": {}
        }
      ],
      "metadata": {
        "collapsed": false
      },
      "source": [
        "print(df_vets.head())\n",
        "print(df_noobs.head())"
      ]
    },
    {
      "cell_type": "markdown",
      "metadata": {
        "nteract": {
          "transient": {
            "deleting": false
          }
        }
      },
      "source": [
        "## Prep dataframe for ML\r\n",
        "\r\n",
        "For this scenario we're going to be leveraging k-means to identify clusters of players based on their betting attributes.  The hypothesis here is that certain playing styles are more successful than others, so we'll cluster the players and later compare the clusters to winngs.  For our model, we'll be focusing on pfr_rate and vp$ip."
      ]
    },
    {
      "cell_type": "code",
      "execution_count": 7,
      "outputs": [
        {
          "output_type": "display_data",
          "data": {
            "application/vnd.livy.statement-meta+json": {
              "spark_pool": "sparkpool",
              "session_id": 3,
              "statement_id": 8,
              "state": "finished",
              "livy_statement_state": "available",
              "queued_time": "2021-02-17T17:52:17.9563551Z",
              "execution_start_time": "2021-02-17T17:52:18.0341697Z",
              "execution_finish_time": "2021-02-17T17:52:22.1220394Z"
            },
            "text/plain": "StatementMeta(sparkpool, 3, 8, Finished, Available)"
          },
          "metadata": {}
        },
        {
          "output_type": "execute_result",
          "data": {
            "text/plain": ""
          },
          "execution_count": 7,
          "metadata": {}
        }
      ],
      "metadata": {
        "collapsed": false
      },
      "source": [
        "from sklearn import preprocessing\n",
        "from sklearn.cluster import KMeans\n",
        "\n",
        "#Limit attributes for K-Means clustering\n",
        "attributes = ['pfr_rate','VP$IP']\n",
        "\n",
        "# Create DataFrame for K Means Model\n",
        "x = df_vets[attributes]"
      ]
    },
    {
      "cell_type": "markdown",
      "metadata": {
        "nteract": {
          "transient": {
            "deleting": false
          }
        }
      },
      "source": [
        "## Examine number of clusters\r\n",
        "\r\n",
        "In order to determine the optimal number of clusters in our model, we need to evaluate the distortion of the model to see when adding new clusers no longer yields a benefit.  In this step we'll iterate from 1-10 clusters and graph the distortion measurement.\r\n",
        "\r\n",
        "The graph below shows the \"elbow\" in the chart between 3 - 4, so we'll leverage 4 clusters for our k-means implementation.\r\n",
        "\r\n",
        ""
      ]
    },
    {
      "cell_type": "code",
      "execution_count": 8,
      "outputs": [
        {
          "output_type": "display_data",
          "data": {
            "application/vnd.livy.statement-meta+json": {
              "spark_pool": "sparkpool",
              "session_id": 3,
              "statement_id": 9,
              "state": "finished",
              "livy_statement_state": "available",
              "queued_time": "2021-02-17T17:52:26.2723701Z",
              "execution_start_time": "2021-02-17T17:52:26.3516181Z",
              "execution_finish_time": "2021-02-17T17:52:28.4003812Z"
            },
            "text/plain": "StatementMeta(sparkpool, 3, 9, Finished, Available)"
          },
          "metadata": {}
        },
        {
          "output_type": "display_data",
          "data": {
            "image/png": "[encoded data removed]"
          },
          "metadata": {}
        },
        {
          "output_type": "execute_result",
          "data": {},
          "execution_count": 8,
          "metadata": {}
        }
      ],
      "metadata": {
        "jupyter": {
          "source_hidden": false,
          "outputs_hidden": false
        },
        "nteract": {
          "transient": {
            "deleting": false
          }
        },
        "collapsed": true
      },
      "source": [
        "#Measure distortion to see the optimal number of logical clusters in the data\r\n",
        "import matplotlib.pyplot as plt\r\n",
        "\r\n",
        "distortions = []\r\n",
        "for i in range(1, 11):\r\n",
        "    km = KMeans(\r\n",
        "        n_clusters=i, init='random',\r\n",
        "        n_init=10, max_iter=300,\r\n",
        "        tol=1e-04, random_state=0\r\n",
        "    )\r\n",
        "    km.fit(x)\r\n",
        "    distortions.append(km.inertia_)\r\n",
        "\r\n",
        "# plot\r\n",
        "plt.plot(range(1, 11), distortions, marker='o')\r\n",
        "plt.xlabel('Number of clusters')\r\n",
        "plt.ylabel('Distortion')\r\n",
        "plt.show()"
      ]
    },
    {
      "cell_type": "markdown",
      "metadata": {
        "nteract": {
          "transient": {
            "deleting": false
          }
        }
      },
      "source": [
        "## Build k-means model\r\n",
        "\r\n",
        "Using scikit learn we initialize the model with 4 clusters, and fit the model based on the data from our \"veteran\" players.\r\n",
        "\r\n",
        "In this example we output the centers of the clusters, and also apply the predicted clusters for each veteran player to the dataframe."
      ]
    },
    {
      "cell_type": "code",
      "execution_count": 9,
      "outputs": [
        {
          "output_type": "display_data",
          "data": {
            "application/vnd.livy.statement-meta+json": {
              "spark_pool": "sparkpool",
              "session_id": 3,
              "statement_id": 10,
              "state": "finished",
              "livy_statement_state": "available",
              "queued_time": "2021-02-17T17:52:33.3198801Z",
              "execution_start_time": "2021-02-17T17:52:33.3956831Z",
              "execution_finish_time": "2021-02-17T17:52:35.439794Z"
            },
            "text/plain": "StatementMeta(sparkpool, 3, 10, Finished, Available)"
          },
          "metadata": {}
        },
        {
          "output_type": "execute_result",
          "data": {
            "text/plain": "[[0.49308526 0.2714702 ]\n [0.69833886 0.1882861 ]\n [0.18963477 0.47251761]\n [0.2156957  0.25628542]]\n[0 3 2 1]\n         player  VPIP_Ct  PFR_Ct  ...  pfr_rate  playertype  labels\n0  Player000461     4544    1659  ...  0.365097         vet       0\n1  Player001163      282     104  ...  0.368794         vet       0\n2  Player001694      752      55  ...  0.073138         vet       3\n5  Player002506      289     132  ...  0.456747         vet       0\n7  Player003311      279      76  ...  0.272401         vet       3\n\n[5 rows x 11 columns]\n/mnt/var/hadoop/tmp/nm-local-dir/usercache/trusted-service-user/appcache/application_1613582614008_0004/container_1613582614008_0004_01_000001/tmp/6144509923836744749:12: SettingWithCopyWarning: \nA value is trying to be set on a copy of a slice from a DataFrame.\nTry using .loc[row_indexer,col_indexer] = value instead\n\nSee the caveats in the documentation: http://pandas.pydata.org/pandas-docs/stable/user_guide/indexing.html#returning-a-view-versus-a-copy\n  # distributed under the License is distributed on an \"AS IS\" BASIS,"
          },
          "execution_count": 9,
          "metadata": {}
        }
      ],
      "metadata": {
        "collapsed": true
      },
      "source": [
        "# Use k-means to identify loose-passive, loose-aggressive, tight-passive, and tight-aggressive clusters\n",
        "from sklearn.cluster import KMeans\n",
        "\n",
        "# Create and fit the K Means Model, and label the vets records\n",
        "kmeans_model = KMeans(n_clusters=4, n_init=10, tol=1e-04, random_state=235235)\n",
        "labels = kmeans_model.fit_predict(x)\n",
        "\n",
        "centers = kmeans_model.cluster_centers_\n",
        "print(centers)\n",
        "\n",
        "#add the labels into the vets dataframe\n",
        "df_vets['labels'] = labels\n",
        "print(df_vets['labels'].unique())\n",
        "print(df_vets.head())"
      ]
    },
    {
      "cell_type": "markdown",
      "metadata": {
        "nteract": {
          "transient": {
            "deleting": false
          }
        }
      },
      "source": [
        "## Apply model to Newbie players\r\n",
        "\r\n",
        "Since we identified the cluster centroids with the veteran players, we want to use that same logics with the Noob players.  Here we extract the same attributes from the noobs dataframe and predict the classes for the noob players as well with kmeans_model.predict()"
      ]
    },
    {
      "cell_type": "code",
      "execution_count": 10,
      "outputs": [
        {
          "output_type": "display_data",
          "data": {
            "application/vnd.livy.statement-meta+json": {
              "spark_pool": "sparkpool",
              "session_id": 3,
              "statement_id": 11,
              "state": "finished",
              "livy_statement_state": "available",
              "queued_time": "2021-02-17T17:52:38.0408832Z",
              "execution_start_time": "2021-02-17T17:52:38.1184779Z",
              "execution_finish_time": "2021-02-17T17:52:40.1544714Z"
            },
            "text/plain": "StatementMeta(sparkpool, 3, 11, Finished, Available)"
          },
          "metadata": {}
        },
        {
          "output_type": "execute_result",
          "data": {
            "text/plain": "[0 3 2 1]\n          player  VPIP_Ct  PFR_Ct  ...  pfr_rate  playertype  labels\n3   Player001787       97      42  ...  0.432990        noob       0\n4   Player002464      107      50  ...  0.467290        noob       0\n6   Player003232      116      31  ...  0.267241        noob       3\n14  Player006707       63       9  ...  0.142857        noob       2\n15  Player006774       61      16  ...  0.262295        noob       3\n\n[5 rows x 11 columns]\n/mnt/var/hadoop/tmp/nm-local-dir/usercache/trusted-service-user/appcache/application_1613582614008_0004/container_1613582614008_0004_01_000001/tmp/6144509923836744749:6: SettingWithCopyWarning: \nA value is trying to be set on a copy of a slice from a DataFrame.\nTry using .loc[row_indexer,col_indexer] = value instead\n\nSee the caveats in the documentation: http://pandas.pydata.org/pandas-docs/stable/user_guide/indexing.html#returning-a-view-versus-a-copy\n  # (the \"License\"); you may not use this file except in compliance with"
          },
          "execution_count": 10,
          "metadata": {}
        }
      ],
      "metadata": {
        "jupyter": {
          "source_hidden": false,
          "outputs_hidden": false
        },
        "nteract": {
          "transient": {
            "deleting": false
          }
        },
        "collapsed": true
      },
      "source": [
        "#Get the two attributes from the noobs dataframe and predict\r\n",
        "y = df_noobs[attributes] \r\n",
        "labels = kmeans_model.predict(y)\r\n",
        "\r\n",
        "#add the labels into the noobs dataframe\r\n",
        "df_noobs['labels'] = labels\r\n",
        "print(df_noobs['labels'].unique())\r\n",
        "print(df_noobs.head())"
      ]
    },
    {
      "cell_type": "markdown",
      "metadata": {
        "nteract": {
          "transient": {
            "deleting": false
          }
        }
      },
      "source": [
        "## Manipulate the dataframe\r\n",
        "\r\n",
        "Now that we've classified both the veteran and noob players, we need to do some manipulaton of the data for both analysis/charting and also persistence.\r\n",
        "\r\n",
        "We do the following:\r\n",
        "\r\n",
        "1. Merge the two dataframes.\r\n",
        "1. Split the merged dataframes by category for pyplot purposes\r\n",
        "1. Print some general statistics on each category\r\n",
        "1. Chart the clusters using pyplot and output the centroids"
      ]
    },
    {
      "cell_type": "code",
      "execution_count": 11,
      "outputs": [
        {
          "output_type": "display_data",
          "data": {
            "application/vnd.livy.statement-meta+json": {
              "spark_pool": "sparkpool",
              "session_id": 3,
              "statement_id": 12,
              "state": "finished",
              "livy_statement_state": "available",
              "queued_time": "2021-02-17T17:52:47.7968773Z",
              "execution_start_time": "2021-02-17T17:52:47.8771855Z",
              "execution_finish_time": "2021-02-17T17:52:49.9153263Z"
            },
            "text/plain": "StatementMeta(sparkpool, 3, 12, Finished, Available)"
          },
          "metadata": {}
        },
        {
          "output_type": "execute_result",
          "data": {
            "text/plain": "Calling Station =  low pfr_rate and high VP$IP\nTight Aggressive = high pfr_rate and low VP$IP\nRock = low pfr_rate and low VP$IP\nLoose Aggressive = high pfr_rate and high VP$IP\n\n864\npfr_rate    0.492835\nVP$IP       0.271732\ndtype: float64\nAverage winnings: -0.9199737853810239, Total winnings: -17775.742680869997\n\n865\npfr_rate    0.698189\nVP$IP       0.188256\ndtype: float64\nAverage winnings: 0.09956276168233114, Total winnings: 3727.6666356083006\n\n339\npfr_rate    0.189580\nVP$IP       0.473467\ndtype: float64\nAverage winnings: -3.9588289220540718, Total winnings: -15514.610957240686\n\n492\npfr_rate    0.215297\nVP$IP       0.256682\ndtype: float64\nAverage winnings: -2.584311591233263, Total winnings: -10127.891282927245"
          },
          "execution_count": 11,
          "metadata": {}
        }
      ],
      "metadata": {
        "collapsed": false
      },
      "source": [
        "#To visualize noobs instead, change this line.\n",
        "df_results = df_vets\n",
        "\n",
        "# Create DataFrames for each cluster.  This helps with charting\n",
        "df_0 = df_results[df_results['labels'] == 0]\n",
        "df_1 = df_results[df_results['labels'] == 1]\n",
        "df_2 = df_results[df_results['labels'] == 2]\n",
        "df_3 = df_results[df_results['labels'] == 3]\n",
        "\n",
        "#Print reminder notes about how we're evaluating\n",
        "print('Calling Station =  low pfr_rate and high VP$IP')\n",
        "print('Tight Aggressive = high pfr_rate and low VP$IP')\n",
        "print('Rock = low pfr_rate and low VP$IP')\n",
        "print('Loose Aggressive = high pfr_rate and high VP$IP')\n",
        "print()\n",
        "\n",
        "#Print count of data points and mean of attributes in each cluster (centroids)\n",
        "print(len(df_0[attributes]))\n",
        "print(df_0[attributes].mean())\n",
        "print('Average winnings: {}, Total winnings: {}'.format((df_0['Winnings'].sum()/df_0[\"Game_Ct\"].sum())*100,df_0['Winnings'].sum()))\n",
        "print()\n",
        "print(len(df_1[attributes]))\n",
        "print(df_1[attributes].mean())\n",
        "print('Average winnings: {}, Total winnings: {}'.format((df_1['Winnings'].sum()/df_1[\"Game_Ct\"].sum())*100,df_1['Winnings'].sum()))\n",
        "print()\n",
        "print(len(df_2[attributes]))\n",
        "print(df_2[attributes].mean())\n",
        "print('Average winnings: {}, Total winnings: {}'.format((df_2['Winnings'].sum()/df_2[\"Game_Ct\"].sum())*100,df_2['Winnings'].sum()))\n",
        "print()\n",
        "print(len(df_3[attributes]))\n",
        "print(df_3[attributes].mean())\n",
        "print('Average winnings: {}, Total winnings: {}'.format((df_3['Winnings'].sum()/df_2[\"Game_Ct\"].sum())*100,df_3['Winnings'].sum()))\n",
        "print()\n",
        ""
      ]
    },
    {
      "cell_type": "code",
      "execution_count": 12,
      "outputs": [
        {
          "output_type": "display_data",
          "data": {
            "application/vnd.livy.statement-meta+json": {
              "spark_pool": "sparkpool",
              "session_id": 3,
              "statement_id": 13,
              "state": "finished",
              "livy_statement_state": "available",
              "queued_time": "2021-02-17T17:52:54.9609027Z",
              "execution_start_time": "2021-02-17T17:52:55.0405358Z",
              "execution_finish_time": "2021-02-17T17:52:57.1111173Z"
            },
            "text/plain": "StatementMeta(sparkpool, 3, 13, Finished, Available)"
          },
          "metadata": {}
        },
        {
          "output_type": "display_data",
          "data": {
            "image/png": "[encoded data removed]"
          },
          "metadata": {}
        },
        {
          "output_type": "execute_result",
          "data": {},
          "execution_count": 12,
          "metadata": {}
        }
      ],
      "metadata": {
        "collapsed": false
      },
      "source": [
        "\n",
        "#Build a plot showing the datapoints and centroids of the identified clusters\n",
        "fig = plt.figure()\n",
        "ax = fig.add_subplot()\n",
        "#Plot the labeled data as a scater of vpip and aggression\n",
        "scatter = ax.scatter(df_0['pfr_rate'],df_0['VP$IP'], c='C0', label=\"Cluster 0\")\n",
        "scatter = ax.scatter(df_1['pfr_rate'],df_1['VP$IP'], c='C1', label=\"Cluster 1\")\n",
        "scatter = ax.scatter(df_2['pfr_rate'],df_2['VP$IP'], c='C2', label=\"Cluster 2\")\n",
        "scatter = ax.scatter(df_3['pfr_rate'],df_3['VP$IP'], c='C3', label=\"Cluster 3\")\n",
        "\n",
        "\n",
        "scatter = ax.scatter(centers[:,0], centers[:,1], c='black', label=\"Centroids\")\n",
        "ax.set_xlabel('pfr_rate')\n",
        "ax.set_ylabel('VP$IP')\n",
        "ax.legend()\n",
        "plt.show()"
      ]
    },
    {
      "cell_type": "markdown",
      "metadata": {
        "nteract": {
          "transient": {
            "deleting": false
          }
        }
      },
      "source": [
        "## Persist the dataframe\r\n",
        "\r\n",
        "Convert the pandas dataframe to spark, then save it as table to spark, which will create the underlying parquet structure."
      ]
    },
    {
      "cell_type": "code",
      "execution_count": 13,
      "outputs": [
        {
          "output_type": "display_data",
          "data": {
            "application/vnd.livy.statement-meta+json": {
              "spark_pool": "sparkpool",
              "session_id": 3,
              "statement_id": 14,
              "state": "finished",
              "livy_statement_state": "available",
              "queued_time": "2021-02-17T17:53:02.9636413Z",
              "execution_start_time": "2021-02-17T17:53:03.0428925Z",
              "execution_finish_time": "2021-02-17T17:53:05.0959326Z"
            },
            "text/plain": "StatementMeta(sparkpool, 3, 14, Finished, Available)"
          },
          "metadata": {}
        },
        {
          "output_type": "execute_result",
          "data": {
            "text/plain": ""
          },
          "execution_count": 13,
          "metadata": {}
        }
      ],
      "metadata": {
        "jupyter": {
          "source_hidden": false,
          "outputs_hidden": false
        },
        "nteract": {
          "transient": {
            "deleting": false
          }
        },
        "collapsed": true
      },
      "source": [
        "#Merge the data frames before persisting the results\r\n",
        "df_allplayers = df_vets.append(df_noobs)\r\n",
        ""
      ]
    },
    {
      "cell_type": "code",
      "execution_count": 15,
      "outputs": [
        {
          "output_type": "display_data",
          "data": {
            "application/vnd.livy.statement-meta+json": {
              "spark_pool": "sparkpool",
              "session_id": 3,
              "statement_id": 16,
              "state": "finished",
              "livy_statement_state": "available",
              "queued_time": "2021-02-17T17:53:21.0079026Z",
              "execution_start_time": "2021-02-17T17:53:21.0889575Z",
              "execution_finish_time": "2021-02-17T17:53:29.2567342Z"
            },
            "text/plain": "StatementMeta(sparkpool, 3, 16, Finished, Available)"
          },
          "metadata": {}
        },
        {
          "output_type": "execute_result",
          "data": {
            "text/plain": ""
          },
          "execution_count": 15,
          "metadata": {}
        }
      ],
      "metadata": {
        "jupyter": {
          "source_hidden": false,
          "outputs_hidden": false
        },
        "nteract": {
          "transient": {
            "deleting": false
          }
        },
        "collapsed": true
      },
      "source": [
        "#Convert the dataframe from pandas -> spark.\r\n",
        "df_output = spark.createDataFrame(df_allplayers)\r\n",
        "\r\n",
        "#Output the data frame as a spark table.   We expect to run this often so overwrite whatever is there.\r\n",
        "df_output.write.mode('overwrite').saveAsTable('pokerdata.playersummary')"
      ]
    },
    {
      "cell_type": "code",
      "execution_count": null,
      "outputs": [],
      "metadata": {
        "jupyter": {
          "source_hidden": false,
          "outputs_hidden": false
        },
        "nteract": {
          "transient": {
            "deleting": false
          }
        },
        "collapsed": true
      },
      "source": [
        ""
      ]
    }
  ]
}