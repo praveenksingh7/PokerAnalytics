{
  "nbformat": 4,
  "nbformat_minor": 2,
  "metadata": {
    "kernelspec": {
      "name": "synapse_pyspark",
      "display_name": "python"
    },
    "language_info": {
      "name": "python"
    },
    "save_output": true,
    "synapse_widget": {
      "version": "0.1",
      "state": {}
    }
  },
  "cells": [
    {
      "cell_type": "code",
      "execution_count": null,
      "outputs": [],
      "metadata": {},
      "source": [
        "%%sql\n",
        "CREATE DATABASE pokerdata"
      ]
    },
    {
      "cell_type": "code",
      "execution_count": null,
      "outputs": [],
      "metadata": {
        "microsoft": {
          "language": "python"
        }
      },
      "source": [
        "%%pyspark\n",
        "df = spark.read.load('abfss://data@<storageacct>.dfs.core.windows.net/JSON/*/*/*/*.json', format='json')\n",
        "df.write.mode(\"overwrite\").saveAsTable(\"pokerdata.rawgames\")"
      ]
    },
    {
      "cell_type": "code",
      "execution_count": 2,
      "outputs": [],
      "metadata": {},
      "source": [
        "spark.sql(\"CREATE TABLE pokerdata.GameDetails  (GameId STRING, TableName string, GameTime string, GameActionId int, Player string, Streetname string, Action string, Amount float) USING PARQUET\")"
      ]
    },
    {
      "cell_type": "code",
      "execution_count": 3,
      "outputs": [],
      "metadata": {
        "microsoft": {
          "language": "sparksql"
        },
        "collapsed": false,
        "diagram": {
          "activateDiagramType": 1,
          "chartConfig": {
            "category": "bar",
            "keys": [],
            "values": [],
            "yLabel": "",
            "xLabel": "",
            "aggregation": "SUM",
            "aggByBackend": false
          },
          "aggData": "{}",
          "isSummary": false,
          "previewData": {
            "filter": null
          },
          "isSql": true
        }
      },
      "source": [
        "%%sql\n",
        "Insert INTO pokerdata.gamedetails\n",
        "SELECT  rg.id GameId\n",
        "--, a.actions\n",
        "    , rg.tablename TableName\n",
        "    , rg.timestamp GameTime\n",
        "    , a.actions.GameActionId\n",
        "    , a.actions.actor Player\n",
        "    , a.actions.streetname Streetname\n",
        "    , a.actions.action Action\n",
        "    , a.actions.amount Amount\n",
        "FROM pokerdata.rawgames rg\n",
        "JOIN (\n",
        "    SELECT id, explode(actions) actions\n",
        "    FROM pokerdata.rawgames \n",
        ") a ON rg.id = a.id\n"
      ]
    }
  ]
}